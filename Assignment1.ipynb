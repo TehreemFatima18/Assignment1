{
 "cells": [
  {
   "cell_type": "markdown",
   "metadata": {},
   "source": [
    "# 1- Write Python Program to Check Whether a Number is Positive or Negative"
   ]
  },
  {
   "cell_type": "code",
   "execution_count": 13,
   "metadata": {},
   "outputs": [
    {
     "name": "stdout",
     "output_type": "stream",
     "text": [
      "Enter a number: 4\n",
      "Positive Number\n"
     ]
    }
   ],
   "source": [
    "num= int(input(\"Enter a number: \"))\n",
    "if num > 0:\n",
    "    print(\"Positive Number\")\n",
    "else:\n",
    "    print(\"Negative Number\")\n",
    "#print(\"Positive Number\") if num > 0 else print(\"Negative Number\")"
   ]
  },
  {
   "cell_type": "markdown",
   "metadata": {},
   "source": [
    "# 2- Write Python Program to Take in the Marks of 5 Subjects and Display the Grade"
   ]
  },
  {
   "cell_type": "code",
   "execution_count": 14,
   "metadata": {},
   "outputs": [
    {
     "name": "stdout",
     "output_type": "stream",
     "text": [
      "Enter marks obtained in 5 subjects: \n",
      "34\n",
      "45\n",
      "67\n",
      "89\n",
      "78\n",
      "Your Grade is B\n"
     ]
    }
   ],
   "source": [
    "print(\"Enter marks obtained in 5 subjects: \")\n",
    "mark1 = input()\n",
    "mark1 = int(mark1)\n",
    "mark2 = int(input())\n",
    "mark3 = int(input())\n",
    "mark4 = int(input())\n",
    "mark5 = int(input())\n",
    "average = (mark1 + mark2 + mark3 + mark4 + mark5)/5\n",
    "if(average>=91 and average<=100):\n",
    "    print(\"Your Grade is A+\")\n",
    "elif(average>=81 and average<=90):\n",
    "    print(\"Your Grade is A\")\n",
    "elif(average>=61 and average<=80):\n",
    "    print(\"Your Grade is B\")\n",
    "elif(average>=41 and average<=60):\n",
    "    print(\"Your Grade is C\")    \n",
    "else:\n",
    "    print(\"Your Grade is F\")    "
   ]
  },
  {
   "cell_type": "markdown",
   "metadata": {},
   "source": [
    "# 3- Write Python Program to Read Two Numbers and Print Their Quotient and Remainder"
   ]
  },
  {
   "cell_type": "code",
   "execution_count": 3,
   "metadata": {},
   "outputs": [
    {
     "name": "stdout",
     "output_type": "stream",
     "text": [
      "Enter the first number:44\n",
      "Enter the second number:4\n",
      "Remainder is:  0\n",
      "Quotient is:  11\n"
     ]
    }
   ],
   "source": [
    "num1 = int(input(\"Enter the first number:\"))\n",
    "num2 = int(input(\"Enter the second number:\"))\n",
    "quotient=num1//num2\n",
    "remainder=num1%num2\n",
    "print(\"Remainder is: \",remainder)\n",
    "print(\"Quotient is: \",quotient)"
   ]
  },
  {
   "cell_type": "markdown",
   "metadata": {},
   "source": [
    "# 4- Write Python Program to Print all Integers that Aren’t Divisible by Either 2 or 3 and Lie between 1 and 50."
   ]
  },
  {
   "cell_type": "code",
   "execution_count": 36,
   "metadata": {},
   "outputs": [
    {
     "name": "stdout",
     "output_type": "stream",
     "text": [
      "1\n",
      "5\n",
      "7\n",
      "11\n",
      "13\n",
      "17\n",
      "19\n",
      "23\n",
      "25\n",
      "29\n",
      "31\n",
      "35\n",
      "37\n",
      "41\n",
      "43\n",
      "47\n",
      "49\n"
     ]
    }
   ],
   "source": [
    "for n in range(0,51):\n",
    "    if(n%2!=0 and n%3!=0):\n",
    "        print(n)     "
   ]
  },
  {
   "cell_type": "markdown",
   "metadata": {},
   "source": [
    "# 5- Write Python Program to Exchange the Values of Two Numbers Without Using a Temporary Variable"
   ]
  },
  {
   "cell_type": "code",
   "execution_count": 23,
   "metadata": {},
   "outputs": [
    {
     "name": "stdout",
     "output_type": "stream",
     "text": [
      "Enter First Number: 54\n",
      "Enter Second Number: 56\n",
      "num1 is  56\n",
      "num2 is  54\n"
     ]
    }
   ],
   "source": [
    "num1= int(input(\"Enter First Number: \"))\n",
    "num2= int(input(\"Enter Second Number: \"))\n",
    "num1 += num2\n",
    "num2 = num1 - num2\n",
    "num1 = num1 - num2\n",
    "print(\"num1 is \",num1)\n",
    "print(\"num2 is \",num2)"
   ]
  },
  {
   "cell_type": "markdown",
   "metadata": {},
   "source": [
    "# 6- Write Python Program to Find the Area of a Triangle Given All Three Sides"
   ]
  },
  {
   "cell_type": "code",
   "execution_count": 6,
   "metadata": {},
   "outputs": [
    {
     "name": "stdout",
     "output_type": "stream",
     "text": [
      "Enter side 1: 45\n",
      "Enter side 2: 89\n",
      "Enter side 3: 55\n",
      "Area of Triangle is 1008.09\n"
     ]
    }
   ],
   "source": [
    "side1=int(input(\"Enter side 1: \"))\n",
    "side2=int(input(\"Enter side 2: \"))\n",
    "side3=int(input(\"Enter side 3: \"))\n",
    "s=(side1+side2+side3)/2\n",
    "area=(s*(s-side1)*(s-side2)*(s-side3))**0.5\n",
    "print(\"Area of Triangle is %0.2f\" %area )"
   ]
  },
  {
   "cell_type": "markdown",
   "metadata": {},
   "source": [
    "# 7- Write Python Program to Print Largest Even and Largest Odd Number in a List"
   ]
  },
  {
   "cell_type": "code",
   "execution_count": 8,
   "metadata": {},
   "outputs": [
    {
     "name": "stdout",
     "output_type": "stream",
     "text": [
      "Enter the number of elements to be in the list:5\n",
      "Element: 65\n",
      "Element: 55\n",
      "Element: 66\n",
      "Element: 98\n",
      "Element: 66\n",
      "Largest even number: 98\n",
      "Largest odd number 65\n"
     ]
    }
   ],
   "source": [
    "n=int(input(\"Enter the number of elements to be in the list:\"))\n",
    "b=[]\n",
    "for i in range(0,n):\n",
    "    a=int(input(\"Element: \"))\n",
    "    b.append(a)\n",
    "c=[]\n",
    "d=[]\n",
    "for i in b:\n",
    "    if(i%2==0):\n",
    "        c.append(i)\n",
    "    else:\n",
    "        d.append(i)\n",
    "c.sort()\n",
    "d.sort()\n",
    "count1=0\n",
    "count2=0\n",
    "for k in c:\n",
    "    count1=count1+1\n",
    "for j in d:\n",
    "    count2=count2+1\n",
    "print(\"Largest even number:\",c[count1-1])\n",
    "print(\"Largest odd number\",d[count2-1])"
   ]
  },
  {
   "cell_type": "markdown",
   "metadata": {},
   "source": [
    "# 8- Write Python Program to Find the Second Largest Number in a List"
   ]
  },
  {
   "cell_type": "code",
   "execution_count": 11,
   "metadata": {},
   "outputs": [
    {
     "name": "stdout",
     "output_type": "stream",
     "text": [
      "Enter number of elements:5\n",
      "Enter element:12\n",
      "Enter element:13\n",
      "Enter element:14\n",
      "Enter element:15\n",
      "Enter element:16\n",
      "Second largest element is: 15\n"
     ]
    }
   ],
   "source": [
    "a=[]\n",
    "n=int(input(\"Enter number of elements:\"))\n",
    "for i in range(1,n+1):\n",
    "    b=int(input(\"Enter element:\"))\n",
    "    a.append(b)\n",
    "a.sort()\n",
    "print(\"Second largest element is:\",a[n-2])"
   ]
  },
  {
   "cell_type": "markdown",
   "metadata": {},
   "source": [
    "# 9- Write Python Program to Find the Union of two Lists"
   ]
  },
  {
   "cell_type": "code",
   "execution_count": 3,
   "metadata": {},
   "outputs": [
    {
     "name": "stdout",
     "output_type": "stream",
     "text": [
      "Enter size of list 1: \t4\n",
      "Enter any number: \t3\n",
      "Enter any number: \t5\n",
      "Enter any number: \t4\n",
      "Enter any number: \t5\n",
      "\n",
      "Enter size of list 2: \t2\n",
      "Enter any number: \t5\n",
      "Enter any number: \t2\n",
      "\n",
      "The Union of two lists is \t [2, 3, 4, 5]\n"
     ]
    }
   ],
   "source": [
    "lst = []\n",
    "num = int(input(\"Enter size of list 1: \\t\"))\n",
    "for n in range(num):\n",
    "    numbers = int(input(\"Enter any number: \\t\"))  \n",
    "    lst.append(numbers)\n",
    "    \n",
    "lst2 = []\n",
    "print()\n",
    "num2 = int(input(\"Enter size of list 2: \\t\"))\n",
    "for n in range(num2):\n",
    "    numbers2 = int(input(\"Enter any number: \\t\"))\n",
    "    lst2.append(numbers2)\n",
    " \n",
    "print(\"\\nThe Union of two lists is \\t\", list(set().union(lst, lst2)))\n",
    " \n"
   ]
  }
 ],
 "metadata": {
  "kernelspec": {
   "display_name": "Python 3",
   "language": "python",
   "name": "python3"
  },
  "language_info": {
   "codemirror_mode": {
    "name": "ipython",
    "version": 3
   },
   "file_extension": ".py",
   "mimetype": "text/x-python",
   "name": "python",
   "nbconvert_exporter": "python",
   "pygments_lexer": "ipython3",
   "version": "3.7.3"
  }
 },
 "nbformat": 4,
 "nbformat_minor": 2
}
